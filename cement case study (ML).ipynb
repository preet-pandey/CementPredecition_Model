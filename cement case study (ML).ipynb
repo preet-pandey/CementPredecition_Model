{
 "cells": [
  {
   "cell_type": "code",
   "execution_count": 1,
   "id": "e6be17a9-52cc-44c8-a808-e2da38d6ed3d",
   "metadata": {},
   "outputs": [],
   "source": [
    "import pandas as pd \n"
   ]
  },
  {
   "cell_type": "code",
   "execution_count": 9,
   "id": "143ed83f-6737-4cb6-a1f0-9a20cf16f57d",
   "metadata": {},
   "outputs": [
    {
     "ename": "AttributeError",
     "evalue": "module 'pandas' has no attribute 'read_xlsx'",
     "output_type": "error",
     "traceback": [
      "\u001b[1;31m---------------------------------------------------------------------------\u001b[0m",
      "\u001b[1;31mAttributeError\u001b[0m                            Traceback (most recent call last)",
      "Cell \u001b[1;32mIn[9], line 1\u001b[0m\n\u001b[1;32m----> 1\u001b[0m df \u001b[38;5;241m=\u001b[39m pd\u001b[38;5;241m.\u001b[39mread_xlsx(\u001b[38;5;124m'\u001b[39m\u001b[38;5;124mhttps://github.com/preet-pandey/CementPredecition_Model/blob/main/Concrete_Data.xls\u001b[39m\u001b[38;5;124m'\u001b[39m)\n",
      "\u001b[1;31mAttributeError\u001b[0m: module 'pandas' has no attribute 'read_xlsx'"
     ]
    }
   ],
   "source": [
    "df = pd.read_xlsx('https://github.com/preet-pandey/CementPredecition_Model/blob/main/Concrete_Data.xls')"
   ]
  },
  {
   "cell_type": "code",
   "execution_count": null,
   "id": "f63cdb7b-6635-429b-88c9-378010f8a7d2",
   "metadata": {},
   "outputs": [],
   "source": []
  }
 ],
 "metadata": {
  "kernelspec": {
   "display_name": "Python 3 (ipykernel)",
   "language": "python",
   "name": "python3"
  },
  "language_info": {
   "codemirror_mode": {
    "name": "ipython",
    "version": 3
   },
   "file_extension": ".py",
   "mimetype": "text/x-python",
   "name": "python",
   "nbconvert_exporter": "python",
   "pygments_lexer": "ipython3",
   "version": "3.12.7"
  }
 },
 "nbformat": 4,
 "nbformat_minor": 5
}
